{
 "cells": [
  {
   "cell_type": "code",
   "execution_count": 1,
   "id": "d5c6acb5-d87b-4355-bd76-334de67e72c3",
   "metadata": {},
   "outputs": [
    {
     "name": "stderr",
     "output_type": "stream",
     "text": [
      "2023-12-19 10:14:39.522681: I tensorflow/core/platform/cpu_feature_guard.cc:182] This TensorFlow binary is optimized to use available CPU instructions in performance-critical operations.\n",
      "To enable the following instructions: AVX2 FMA, in other operations, rebuild TensorFlow with the appropriate compiler flags.\n",
      "2023-12-19 10:14:40.771860: W tensorflow/compiler/tf2tensorrt/utils/py_utils.cc:38] TF-TRT Warning: Could not find TensorRT\n"
     ]
    }
   ],
   "source": [
    "from pyalex import (\n",
    "    Works, Authors, Sources,\n",
    "    Institutions, Concepts, Publishers, Funders\n",
    ")\n",
    "import pyalex\n",
    "import pandas as pd\n",
    "import numpy as np\n",
    "pyalex.config.email = \"david@rs21.io\"\n",
    "\n",
    "from flair.embeddings import DocumentPoolEmbeddings\n",
    "from flair.data import Sentence\n",
    "from flair.embeddings import SentenceTransformerDocumentEmbeddings\n",
    "\n",
    "EMBEDDING_MODEL_1 = \"all-mpnet-base-v2\" \n",
    "\n",
    "# this one is also good: all-MiniLM-L6-v2\n",
    "EMBEDDING_MODEL_2 = \"all-MiniLM-L6-v2\"\n",
    "SENT_EMBEDDINGS_1 = SentenceTransformerDocumentEmbeddings(EMBEDDING_MODEL_1)\n",
    "SENT_EMBEDDINGS_2 = SentenceTransformerDocumentEmbeddings(EMBEDDING_MODEL_2)\n",
    "DOC_EMBEDDINGS= DocumentPoolEmbeddings([SENT_EMBEDDINGS_2])\n",
    "\n",
    "import torch\n",
    "from tqdm import tqdm\n",
    "import yake\n",
    "import umap.umap_ as umap\n",
    "from sklearn import metrics\n",
    "import matplotlib.pyplot as plt\n",
    "from sklearn.mixture import GaussianMixture as GMM\n",
    "import altair as alt\n",
    "import math\n",
    "import plotly.express as px\n",
    "import textwrap"
   ]
  },
  {
   "cell_type": "code",
   "execution_count": 7,
   "id": "3bbed98e-268f-4c94-8d51-9837da6e5509",
   "metadata": {},
   "outputs": [],
   "source": [
    "target_authors = Authors().search_filter(display_name='Alex Washburne').get()"
   ]
  },
  {
   "cell_type": "code",
   "execution_count": 8,
   "id": "598be83c-238f-4c69-a115-ca399ec0a16c",
   "metadata": {},
   "outputs": [
    {
     "data": {
      "text/plain": [
       "2"
      ]
     },
     "execution_count": 8,
     "metadata": {},
     "output_type": "execute_result"
    }
   ],
   "source": [
    "len(target_authors)"
   ]
  },
  {
   "cell_type": "code",
   "execution_count": 9,
   "id": "1398dc09-d126-4177-b427-a8c31907d87d",
   "metadata": {},
   "outputs": [],
   "source": [
    "def process_works_list(worklist:list):\n",
    "    \"\"\"\n",
    "    transforms the \n",
    "    works list into a dataframe.\n",
    "    \"\"\"\n",
    "    abstracts_dict = {h[\"id\"]:h[\"abstract\"] for h in worklist}\n",
    "    df = pd.DataFrame.from_records(worklist)\n",
    "    del df['abstract_inverted_index']\n",
    "    df['abstract'] = df['id'].map(abstracts_dict)\n",
    "   # df['author_affils'] = df['authorships'].apply(get_authors_and_affils)\n",
    "    return df"
   ]
  },
  {
   "cell_type": "code",
   "execution_count": 10,
   "id": "62fa14f2-3b5d-4113-b922-9d3aa368e9de",
   "metadata": {},
   "outputs": [
    {
     "name": "stdout",
     "output_type": "stream",
     "text": [
      "https://openalex.org/A5044568003 54\n",
      "https://openalex.org/A5008059746 2\n"
     ]
    }
   ],
   "source": [
    "for i in range(len(target_authors)):\n",
    "    print(target_authors[i]['id'], target_authors[i]['works_count'])"
   ]
  },
  {
   "cell_type": "code",
   "execution_count": 68,
   "id": "8675a086-2124-4242-b8a5-cf337d37b71d",
   "metadata": {},
   "outputs": [],
   "source": [
    "from pyalex import Works\n",
    "from itertools import chain\n",
    "\n",
    "# Create a query for the works of a specific author\n",
    "query = Works().filter(author={\"id\": target_authors[0]['id']})\n",
    "\n",
    "# Use the paginate() method to iterate over all the pages of results\n",
    "records0 = []\n",
    "for record in chain(*query.paginate(per_page=25)):\n",
    "    records0.append(record)\n",
    "   #print(record)\n"
   ]
  },
  {
   "cell_type": "code",
   "execution_count": 69,
   "id": "ec4073de-d939-49fa-b4cc-26cf6e862f64",
   "metadata": {},
   "outputs": [],
   "source": [
    "# Create a query for the works of a specific author\n",
    "query = Works().filter(author={\"id\": target_authors[1]['id']})\n",
    "\n",
    "# Use the paginate() method to iterate over all the pages of results\n",
    "records1 = []\n",
    "for record in chain(*query.paginate(per_page=25)):\n",
    "    records1.append(record)\n",
    "   #print(record)"
   ]
  },
  {
   "cell_type": "code",
   "execution_count": 70,
   "id": "c79ff30e-38c0-47f1-8169-ee7c14446de2",
   "metadata": {},
   "outputs": [
    {
     "data": {
      "text/plain": [
       "(54, 2)"
      ]
     },
     "execution_count": 70,
     "metadata": {},
     "output_type": "execute_result"
    }
   ],
   "source": [
    "len(records0), len(records1)"
   ]
  },
  {
   "cell_type": "code",
   "execution_count": 71,
   "id": "5cf2fce8-a864-44bf-a02d-43de2693e85b",
   "metadata": {},
   "outputs": [
    {
     "data": {
      "text/plain": [
       "56"
      ]
     },
     "execution_count": 71,
     "metadata": {},
     "output_type": "execute_result"
    }
   ],
   "source": [
    "records0.extend(records1)\n",
    "len(records0)"
   ]
  },
  {
   "cell_type": "code",
   "execution_count": 74,
   "id": "58c957fc-4032-4328-bc40-0dd450842c10",
   "metadata": {},
   "outputs": [],
   "source": [
    "def get_author_frame(authors_list:list, i:int):\n",
    "    \"\"\"\n",
    "    takes a list of Authors() results and an index\n",
    "    and forms the pagination object to retrive the \n",
    "    records\n",
    "    \"\"\"\n",
    "    pager = Works().filter(publication_year='>1990',\n",
    "    #concepts={\"id\":f\"{concepts_list[i]['id']}\"}).filter(authorships={\"institutions\":{\"country_code\":\"CN\"}}).\\\n",
    "    #paginate(per_page=200,n_max=None)\n",
    "    authorships={\"author.id\":f\"{authors_list[i]['id']}\"}).\\\n",
    "    paginate(per_page=200,n_max=None)\n",
    "    df = pd.DataFrame()\n",
    "    for page in tqdm(pager):\n",
    "        dfpage = process_works_list(page)\n",
    "        df = pd.concat([df, dfpage], ignore_index=True)\n",
    "        df.drop_duplicates(subset='id', keep='first',inplace=True)\n",
    "    return df"
   ]
  },
  {
   "cell_type": "code",
   "execution_count": 75,
   "id": "54924889-57cb-45a0-aa14-b3ce9888b22b",
   "metadata": {},
   "outputs": [],
   "source": [
    "df = process_works_list(records0)\n",
    "df.drop_duplicates(subset='id', keep='first', inplace=True)"
   ]
  },
  {
   "cell_type": "code",
   "execution_count": 77,
   "id": "48de4726-6f99-471c-a267-5d37f1a8b7bd",
   "metadata": {},
   "outputs": [],
   "source": [
    "dfall = df.copy()\n",
    "dfall.set_index('id', inplace=True, drop=False)"
   ]
  },
  {
   "cell_type": "code",
   "execution_count": 78,
   "id": "b0727bf6-2ed0-4c14-8951-6286885c8f07",
   "metadata": {},
   "outputs": [
    {
     "name": "stdout",
     "output_type": "stream",
     "text": [
      "(56, 43)\n"
     ]
    }
   ],
   "source": [
    "print(dfall.shape)"
   ]
  },
  {
   "cell_type": "code",
   "execution_count": 79,
   "id": "fb6f0eae-686a-4b9c-9b98-4f78e186b70b",
   "metadata": {},
   "outputs": [],
   "source": [
    "dfall['content'] = dfall['title'] + \". \" + dfall['abstract']\n",
    "\n",
    "dfrecords = dfall[~dfall['content'].isna()].copy()"
   ]
  },
  {
   "cell_type": "code",
   "execution_count": 80,
   "id": "6ad4a2ce-acca-4822-97ce-c88390e001fa",
   "metadata": {},
   "outputs": [],
   "source": [
    "def get_keywords(text:str, top:int=7, stopwords=None):\n",
    "    \"\"\"\n",
    "    takes a blob of text and \n",
    "    returns the top **top** \n",
    "    keywords as a list\n",
    "    \"\"\"\n",
    "    kw_extractor = yake.KeywordExtractor(top=top, stopwords=stopwords)\n",
    "    keywords = kw_extractor.extract_keywords(text)\n",
    "    return [p[0] for p in keywords]"
   ]
  },
  {
   "cell_type": "code",
   "execution_count": 81,
   "id": "5d12b8bc-9eb9-4805-a41e-e2a46bfd9199",
   "metadata": {},
   "outputs": [],
   "source": [
    "def get_top_concepts(concept_list:list,score:float=.6):\n",
    "    \"\"\"\n",
    "    takes a list of concept dictionaries \n",
    "    returns the top **top** display_names;\n",
    "    concepts whose score is >= score\n",
    "    \"\"\"\n",
    "    return [c['display_name'] for c in concept_list if c['score'] >= score]"
   ]
  },
  {
   "cell_type": "code",
   "execution_count": 82,
   "id": "7bbb89ed-0a4c-4e01-b201-fedf0c39e354",
   "metadata": {},
   "outputs": [],
   "source": [
    "dfrecords['keywords'] = dfrecords['content'].apply(get_keywords)\n",
    "dfrecords['top_concepts'] = dfrecords['concepts'].apply(get_top_concepts)"
   ]
  },
  {
   "cell_type": "code",
   "execution_count": 83,
   "id": "2359e7cd-f9a2-4a19-8d67-0b706e78cd0f",
   "metadata": {},
   "outputs": [],
   "source": [
    "texts = dfrecords['content'].str.lower().values.tolist()\n",
    "#dfrecords.to_csv('jamming.csv')"
   ]
  },
  {
   "cell_type": "code",
   "execution_count": 84,
   "id": "16a4adbe-12c9-43b1-92d1-e0d6b6e9938a",
   "metadata": {},
   "outputs": [],
   "source": [
    "def get_content_embeddings(dfrecords:pd.DataFrame) -> pd.DataFrame:\n",
    "    \"\"\"\n",
    "    passes the preprocessed mitigation strings\n",
    "    data through the embedding model to produce the vector\n",
    "    space representation of each pet mitigation.\n",
    "    \"\"\"\n",
    "    sent = Sentence(\"The grass is green.\")\n",
    "    DOC_EMBEDDINGS.embed(sent)\n",
    "    texts = dfrecords[\"content\"].str.lower().values.tolist()\n",
    "    all_descriptions = np.empty((len(texts), len(sent.embedding)))\n",
    "    for i in tqdm(range(len(texts))):\n",
    "        sent = Sentence(texts[i])\n",
    "        DOC_EMBEDDINGS.embed(sent)\n",
    "        all_descriptions[i, :] = sent.embedding.cpu().numpy()\n",
    "        # gc.collect()\n",
    "        torch.cuda.empty_cache()\n",
    "    dfcontentvectors = pd.DataFrame.from_records(all_descriptions, index=dfrecords.index)\n",
    "    return dfcontentvectors"
   ]
  },
  {
   "cell_type": "code",
   "execution_count": 85,
   "id": "a4b96805-eb76-4dba-bad0-0292187a199b",
   "metadata": {},
   "outputs": [
    {
     "name": "stderr",
     "output_type": "stream",
     "text": [
      "100%|█████████████████████████████████████████████████████████████████████████| 53/53 [00:02<00:00, 24.57it/s]\n"
     ]
    }
   ],
   "source": [
    "dfcontentvectors = get_content_embeddings(dfrecords)\n"
   ]
  },
  {
   "cell_type": "code",
   "execution_count": 86,
   "id": "15e20327-2807-4928-b62b-e3cfaa9e3253",
   "metadata": {},
   "outputs": [
    {
     "name": "stderr",
     "output_type": "stream",
     "text": [
      "/home/davidd/.local/lib/python3.10/site-packages/umap/umap_.py:1943: UserWarning: n_jobs value -1 overridden to 1 by setting random_state. Use no seed for parallelism.\n",
      "  warn(f\"n_jobs value {self.n_jobs} overridden to 1 by setting random_state. Use no seed for parallelism.\")\n"
     ]
    }
   ],
   "source": [
    "#umap.UMAP?\n",
    "N_COMPONENTS = 2 # can visualize this way\n",
    "umap_reducer = umap.UMAP(n_components=N_COMPONENTS,\n",
    "                       #  metric='euclidean')\n",
    "                         random_state=1234,\n",
    "                         metric='cosine')  # can experiment with this metric as well as the other \n",
    "# parameters\n",
    "# to see what other literature is in the same information space, we need to keep this umap_reducer \n",
    "# object as well as the gmm model below.\n",
    "\n",
    "# Apply UMAP to the vectorized strings\n",
    "reduced_vectors = umap_reducer.fit_transform(dfcontentvectors.to_numpy())\n",
    "dfreduced = pd.DataFrame.from_records(reduced_vectors, \n",
    "                index=dfcontentvectors.index)\n",
    "dfreduced.columns = ['x','y']"
   ]
  },
  {
   "cell_type": "markdown",
   "id": "73dcd30d-f023-4505-be6c-e4a727b3d01a",
   "metadata": {},
   "source": [
    "## use hdbscan to cluster"
   ]
  },
  {
   "cell_type": "code",
   "execution_count": 87,
   "id": "e96fd357-09c5-426b-8fde-96ae0d6471f3",
   "metadata": {},
   "outputs": [],
   "source": [
    "import hdbscan\n",
    "\n",
    "hdbscan_args = {'min_cluster_size': 2,\n",
    "                            'metric': 'euclidean',\n",
    "                            'cluster_selection_method': 'eom',\n",
    "                            'cluster_selection_epsilon': 0.1\n",
    "               }\n",
    "\n",
    "cluster = hdbscan.HDBSCAN(**hdbscan_args).fit(dfreduced[['x','y']].to_numpy())\n",
    "\n",
    "dfreduced['cluster'] = cluster.labels_\n",
    "dfreduced['probability'] = cluster.probabilities_\n",
    "\n",
    "dfpapers = dfrecords.merge(dfreduced, left_index=True,\n",
    "                           right_index=True)"
   ]
  },
  {
   "cell_type": "code",
   "execution_count": 88,
   "id": "8f5c92a9-55c5-4009-877b-f576ea84f90c",
   "metadata": {},
   "outputs": [
    {
     "data": {
      "text/html": [
       "<div>\n",
       "<style scoped>\n",
       "    .dataframe tbody tr th:only-of-type {\n",
       "        vertical-align: middle;\n",
       "    }\n",
       "\n",
       "    .dataframe tbody tr th {\n",
       "        vertical-align: top;\n",
       "    }\n",
       "\n",
       "    .dataframe thead th {\n",
       "        text-align: right;\n",
       "    }\n",
       "</style>\n",
       "<table border=\"1\" class=\"dataframe\">\n",
       "  <thead>\n",
       "    <tr style=\"text-align: right;\">\n",
       "      <th></th>\n",
       "      <th>id</th>\n",
       "      <th>doi</th>\n",
       "      <th>title</th>\n",
       "      <th>display_name</th>\n",
       "      <th>publication_year</th>\n",
       "      <th>publication_date</th>\n",
       "      <th>ids</th>\n",
       "      <th>language</th>\n",
       "      <th>primary_location</th>\n",
       "      <th>type</th>\n",
       "      <th>...</th>\n",
       "      <th>updated_date</th>\n",
       "      <th>created_date</th>\n",
       "      <th>fulltext_origin</th>\n",
       "      <th>abstract</th>\n",
       "      <th>content</th>\n",
       "      <th>top_concepts</th>\n",
       "      <th>x</th>\n",
       "      <th>y</th>\n",
       "      <th>cluster</th>\n",
       "      <th>probability</th>\n",
       "    </tr>\n",
       "  </thead>\n",
       "  <tbody>\n",
       "    <tr>\n",
       "      <th>0</th>\n",
       "      <td>https://openalex.org/W3134208712</td>\n",
       "      <td>https://doi.org/10.1126/science.abg3055</td>\n",
       "      <td>Estimated transmissibility and impact of SARS-...</td>\n",
       "      <td>Estimated transmissibility and impact of SARS-...</td>\n",
       "      <td>2021</td>\n",
       "      <td>2021-04-09</td>\n",
       "      <td>{'openalex': 'https://openalex.org/W3134208712...</td>\n",
       "      <td>en</td>\n",
       "      <td>{'is_oa': True, 'landing_page_url': 'https://d...</td>\n",
       "      <td>article</td>\n",
       "      <td>...</td>\n",
       "      <td>2023-12-19T16:06:19.867345</td>\n",
       "      <td>2021-03-15</td>\n",
       "      <td>NaN</td>\n",
       "      <td>UK variant transmission Severe acute respirato...</td>\n",
       "      <td>Estimated transmissibility and impact of SARS-...</td>\n",
       "      <td>[Transmissibility (structural dynamics), Linea...</td>\n",
       "      <td>2.144710</td>\n",
       "      <td>5.364228</td>\n",
       "      <td>3</td>\n",
       "      <td>1.000000</td>\n",
       "    </tr>\n",
       "    <tr>\n",
       "      <th>1</th>\n",
       "      <td>https://openalex.org/W3044459694</td>\n",
       "      <td>https://doi.org/10.1128/msystems.00614-20</td>\n",
       "      <td>SARS-CoV-2 Titers in Wastewater Are Higher tha...</td>\n",
       "      <td>SARS-CoV-2 Titers in Wastewater Are Higher tha...</td>\n",
       "      <td>2020</td>\n",
       "      <td>2020-08-25</td>\n",
       "      <td>{'openalex': 'https://openalex.org/W3044459694...</td>\n",
       "      <td>en</td>\n",
       "      <td>{'is_oa': True, 'landing_page_url': 'https://d...</td>\n",
       "      <td>article</td>\n",
       "      <td>...</td>\n",
       "      <td>2023-12-19T01:39:00.859939</td>\n",
       "      <td>2020-07-29</td>\n",
       "      <td>pdf</td>\n",
       "      <td>Wastewater surveillance represents a complemen...</td>\n",
       "      <td>SARS-CoV-2 Titers in Wastewater Are Higher tha...</td>\n",
       "      <td>[Outbreak]</td>\n",
       "      <td>1.750743</td>\n",
       "      <td>5.407535</td>\n",
       "      <td>3</td>\n",
       "      <td>1.000000</td>\n",
       "    </tr>\n",
       "    <tr>\n",
       "      <th>2</th>\n",
       "      <td>https://openalex.org/W2951061751</td>\n",
       "      <td>https://doi.org/10.1038/s41467-019-10656-5</td>\n",
       "      <td>Establishing microbial composition measurement...</td>\n",
       "      <td>Establishing microbial composition measurement...</td>\n",
       "      <td>2019</td>\n",
       "      <td>2019-06-20</td>\n",
       "      <td>{'openalex': 'https://openalex.org/W2951061751...</td>\n",
       "      <td>en</td>\n",
       "      <td>{'is_oa': True, 'landing_page_url': 'https://d...</td>\n",
       "      <td>article</td>\n",
       "      <td>...</td>\n",
       "      <td>2023-12-18T08:08:23.026663</td>\n",
       "      <td>2019-06-27</td>\n",
       "      <td>pdf</td>\n",
       "      <td>Differential abundance analysis is controversi...</td>\n",
       "      <td>Establishing microbial composition measurement...</td>\n",
       "      <td>[Relative species abundance, Microbiome, False...</td>\n",
       "      <td>6.967310</td>\n",
       "      <td>4.733189</td>\n",
       "      <td>0</td>\n",
       "      <td>1.000000</td>\n",
       "    </tr>\n",
       "    <tr>\n",
       "      <th>3</th>\n",
       "      <td>https://openalex.org/W2510675082</td>\n",
       "      <td>https://doi.org/10.7554/elife.21887</td>\n",
       "      <td>A phylogenetic transform enhances analysis of ...</td>\n",
       "      <td>A phylogenetic transform enhances analysis of ...</td>\n",
       "      <td>2017</td>\n",
       "      <td>2017-02-15</td>\n",
       "      <td>{'openalex': 'https://openalex.org/W2510675082...</td>\n",
       "      <td>en</td>\n",
       "      <td>{'is_oa': True, 'landing_page_url': 'https://d...</td>\n",
       "      <td>article</td>\n",
       "      <td>...</td>\n",
       "      <td>2023-12-17T02:56:01.284622</td>\n",
       "      <td>2016-09-16</td>\n",
       "      <td>ngrams</td>\n",
       "      <td>Surveys of microbial communities (microbiota),...</td>\n",
       "      <td>A phylogenetic transform enhances analysis of ...</td>\n",
       "      <td>[Phylogenetic tree, Clade]</td>\n",
       "      <td>6.474397</td>\n",
       "      <td>4.941989</td>\n",
       "      <td>0</td>\n",
       "      <td>1.000000</td>\n",
       "    </tr>\n",
       "    <tr>\n",
       "      <th>4</th>\n",
       "      <td>https://openalex.org/W3116925452</td>\n",
       "      <td>https://doi.org/10.1101/2020.12.24.20248822</td>\n",
       "      <td>Estimated transmissibility and impact of SARS-...</td>\n",
       "      <td>Estimated transmissibility and impact of SARS-...</td>\n",
       "      <td>2020</td>\n",
       "      <td>2020-12-26</td>\n",
       "      <td>{'openalex': 'https://openalex.org/W3116925452...</td>\n",
       "      <td>en</td>\n",
       "      <td>{'is_oa': True, 'landing_page_url': 'https://d...</td>\n",
       "      <td>article</td>\n",
       "      <td>...</td>\n",
       "      <td>2023-12-19T16:05:06.384298</td>\n",
       "      <td>2021-01-05</td>\n",
       "      <td>pdf</td>\n",
       "      <td>A novel SARS-CoV-2 variant, VOC 202012/01 (lin...</td>\n",
       "      <td>Estimated transmissibility and impact of SARS-...</td>\n",
       "      <td>[Transmissibility (structural dynamics), Coron...</td>\n",
       "      <td>1.904365</td>\n",
       "      <td>4.902037</td>\n",
       "      <td>4</td>\n",
       "      <td>0.563183</td>\n",
       "    </tr>\n",
       "  </tbody>\n",
       "</table>\n",
       "<p>5 rows × 49 columns</p>\n",
       "</div>"
      ],
      "text/plain": [
       "                                 id   \n",
       "0  https://openalex.org/W3134208712  \\\n",
       "1  https://openalex.org/W3044459694   \n",
       "2  https://openalex.org/W2951061751   \n",
       "3  https://openalex.org/W2510675082   \n",
       "4  https://openalex.org/W3116925452   \n",
       "\n",
       "                                           doi   \n",
       "0      https://doi.org/10.1126/science.abg3055  \\\n",
       "1    https://doi.org/10.1128/msystems.00614-20   \n",
       "2   https://doi.org/10.1038/s41467-019-10656-5   \n",
       "3          https://doi.org/10.7554/elife.21887   \n",
       "4  https://doi.org/10.1101/2020.12.24.20248822   \n",
       "\n",
       "                                               title   \n",
       "0  Estimated transmissibility and impact of SARS-...  \\\n",
       "1  SARS-CoV-2 Titers in Wastewater Are Higher tha...   \n",
       "2  Establishing microbial composition measurement...   \n",
       "3  A phylogenetic transform enhances analysis of ...   \n",
       "4  Estimated transmissibility and impact of SARS-...   \n",
       "\n",
       "                                        display_name  publication_year   \n",
       "0  Estimated transmissibility and impact of SARS-...              2021  \\\n",
       "1  SARS-CoV-2 Titers in Wastewater Are Higher tha...              2020   \n",
       "2  Establishing microbial composition measurement...              2019   \n",
       "3  A phylogenetic transform enhances analysis of ...              2017   \n",
       "4  Estimated transmissibility and impact of SARS-...              2020   \n",
       "\n",
       "  publication_date                                                ids   \n",
       "0       2021-04-09  {'openalex': 'https://openalex.org/W3134208712...  \\\n",
       "1       2020-08-25  {'openalex': 'https://openalex.org/W3044459694...   \n",
       "2       2019-06-20  {'openalex': 'https://openalex.org/W2951061751...   \n",
       "3       2017-02-15  {'openalex': 'https://openalex.org/W2510675082...   \n",
       "4       2020-12-26  {'openalex': 'https://openalex.org/W3116925452...   \n",
       "\n",
       "  language                                   primary_location     type  ...   \n",
       "0       en  {'is_oa': True, 'landing_page_url': 'https://d...  article  ...  \\\n",
       "1       en  {'is_oa': True, 'landing_page_url': 'https://d...  article  ...   \n",
       "2       en  {'is_oa': True, 'landing_page_url': 'https://d...  article  ...   \n",
       "3       en  {'is_oa': True, 'landing_page_url': 'https://d...  article  ...   \n",
       "4       en  {'is_oa': True, 'landing_page_url': 'https://d...  article  ...   \n",
       "\n",
       "                 updated_date created_date fulltext_origin   \n",
       "0  2023-12-19T16:06:19.867345   2021-03-15             NaN  \\\n",
       "1  2023-12-19T01:39:00.859939   2020-07-29             pdf   \n",
       "2  2023-12-18T08:08:23.026663   2019-06-27             pdf   \n",
       "3  2023-12-17T02:56:01.284622   2016-09-16          ngrams   \n",
       "4  2023-12-19T16:05:06.384298   2021-01-05             pdf   \n",
       "\n",
       "                                            abstract   \n",
       "0  UK variant transmission Severe acute respirato...  \\\n",
       "1  Wastewater surveillance represents a complemen...   \n",
       "2  Differential abundance analysis is controversi...   \n",
       "3  Surveys of microbial communities (microbiota),...   \n",
       "4  A novel SARS-CoV-2 variant, VOC 202012/01 (lin...   \n",
       "\n",
       "                                             content   \n",
       "0  Estimated transmissibility and impact of SARS-...  \\\n",
       "1  SARS-CoV-2 Titers in Wastewater Are Higher tha...   \n",
       "2  Establishing microbial composition measurement...   \n",
       "3  A phylogenetic transform enhances analysis of ...   \n",
       "4  Estimated transmissibility and impact of SARS-...   \n",
       "\n",
       "                                        top_concepts         x         y   \n",
       "0  [Transmissibility (structural dynamics), Linea...  2.144710  5.364228  \\\n",
       "1                                         [Outbreak]  1.750743  5.407535   \n",
       "2  [Relative species abundance, Microbiome, False...  6.967310  4.733189   \n",
       "3                         [Phylogenetic tree, Clade]  6.474397  4.941989   \n",
       "4  [Transmissibility (structural dynamics), Coron...  1.904365  4.902037   \n",
       "\n",
       "  cluster  probability  \n",
       "0       3     1.000000  \n",
       "1       3     1.000000  \n",
       "2       0     1.000000  \n",
       "3       0     1.000000  \n",
       "4       4     0.563183  \n",
       "\n",
       "[5 rows x 49 columns]"
      ]
     },
     "execution_count": 88,
     "metadata": {},
     "output_type": "execute_result"
    }
   ],
   "source": [
    "#help(dfpapers.explode)\n",
    "del dfpapers['id']\n",
    "dfstart = dfpapers.reset_index()\n",
    "dfstart.head()"
   ]
  },
  {
   "cell_type": "code",
   "execution_count": 89,
   "id": "89e8dd06-7d43-4922-bbcb-a596824eb4a0",
   "metadata": {},
   "outputs": [
    {
     "data": {
      "text/plain": [
       "(53, 49)"
      ]
     },
     "execution_count": 89,
     "metadata": {},
     "output_type": "execute_result"
    }
   ],
   "source": [
    "dfstart.shape"
   ]
  },
  {
   "cell_type": "code",
   "execution_count": 90,
   "id": "7bf37147-4305-4ca8-9d75-b3f272a529b2",
   "metadata": {},
   "outputs": [
    {
     "data": {
      "text/plain": [
       "cluster\n",
       " 0    28\n",
       " 2     8\n",
       " 4     7\n",
       "-1     4\n",
       " 3     3\n",
       " 1     3\n",
       "Name: count, dtype: int64"
      ]
     },
     "execution_count": 90,
     "metadata": {},
     "output_type": "execute_result"
    }
   ],
   "source": [
    "dfstart.cluster.value_counts(dropna=False)"
   ]
  },
  {
   "cell_type": "code",
   "execution_count": 91,
   "id": "306605c1-c775-43a2-b099-791825a3f6fe",
   "metadata": {},
   "outputs": [
    {
     "data": {
      "text/plain": [
       "((399, 49), (53, 49))"
      ]
     },
     "execution_count": 91,
     "metadata": {},
     "output_type": "execute_result"
    }
   ],
   "source": [
    "dfbig = dfstart.explode(column='authorships')\n",
    "dfbig.shape, dfstart.shape"
   ]
  },
  {
   "cell_type": "code",
   "execution_count": 92,
   "id": "616cdf3a-e105-4316-80dd-8f1ad0083be1",
   "metadata": {},
   "outputs": [],
   "source": [
    "def add_extra_to_authorships(row: pd.DataFrame):\n",
    "    \"\"\"\n",
    "    row[authorships] is a dictionary;\n",
    "    add in the id key to that dictionary\n",
    "    whose value is row[id]\n",
    "    \"\"\"\n",
    "    complete_dict = row[\"authorships\"]\n",
    "   # assert type(complete_dict) == dict\n",
    "    #print(type(complete_dict))\n",
    "    if type(complete_dict) == dict:\n",
    "        complete_dict[\"id\"] = row[\"id\"]\n",
    "        complete_dict[\"x\"] = row[\"x\"]\n",
    "        complete_dict[\"y\"] = row[\"y\"]\n",
    "        complete_dict[\"cluster\"] = row[\"cluster\"]\n",
    "        complete_dict[\"cluster_score\"] = row[\"probability\"]\n",
    "        complete_dict[\"title\"] = row[\"title\"]\n",
    "        complete_dict[\"abstract\"] = row[\"abstract\"]\n",
    "        complete_dict[\"doi\"] = row[\"doi\"]\n",
    "        complete_dict[\"publication_date\"] = row[\"publication_date\"]\n",
    "        complete_dict[\"publication_year\"] = row[\"publication_year\"]\n",
    "        complete_dict[\"grants\"] = row[\"grants\"]\n",
    "        complete_dict[\"locations\"] = row[\"locations\"]\n",
    "        return complete_dict\n",
    "    else:\n",
    "        return row[\"authorships\"]"
   ]
  },
  {
   "cell_type": "code",
   "execution_count": 93,
   "id": "2b81d1fb-bc69-4e8a-ab44-64020821d099",
   "metadata": {},
   "outputs": [],
   "source": [
    "dfbig['big_authorships'] = dfbig.apply(add_extra_to_authorships, axis=1)"
   ]
  },
  {
   "cell_type": "code",
   "execution_count": 94,
   "id": "237a4caa-a737-41c7-a455-638e9981c9ea",
   "metadata": {},
   "outputs": [],
   "source": [
    "#dfbig['authorships'].tolist()\n",
    "bigvals = dfbig['authorships'].tolist()"
   ]
  },
  {
   "cell_type": "code",
   "execution_count": 95,
   "id": "490d8959-41d5-4906-9bd7-0e57fcb676d3",
   "metadata": {},
   "outputs": [],
   "source": [
    "dictvals = [c for c in bigvals if type(c) != float]\n"
   ]
  },
  {
   "cell_type": "code",
   "execution_count": 96,
   "id": "d81dea01-27ca-403a-92f3-31ff169434e7",
   "metadata": {},
   "outputs": [],
   "source": [
    "dftriple = pd.json_normalize(dictvals,\n",
    "                  record_path=['institutions'],\n",
    "                  meta=['id','raw_affiliation_string','author_position', 'doi',\n",
    "                        'title','abstract','publication_date', 'publication_year',\n",
    "                        'grants','locations',\n",
    "                        'is_corrresponding','x','y','cluster','cluster_score',\n",
    "                       ['author','id'], ['author', 'display_name'],\n",
    "                       ['author','orcid']],\n",
    "                  errors='ignore',\n",
    "                  sep='_',\n",
    "                  meta_prefix='paper_',\n",
    "                #  record_prefix='author_'\n",
    "                 )"
   ]
  },
  {
   "cell_type": "code",
   "execution_count": 97,
   "id": "d3cc44c5-5414-4e7a-baa6-9c1645a8b75e",
   "metadata": {},
   "outputs": [],
   "source": [
    "dftopics = dfcontentvectors.copy()\n",
    "dftopics['cluster'] = dfpapers['cluster']\n",
    "dfmeantopics = dftopics.groupby('cluster').mean().copy()\n",
    "reduced_topics = umap_reducer.transform(dfmeantopics.to_numpy())\n",
    "df_reduced_topics = pd.DataFrame.from_records(reduced_topics, \n",
    "                index=dfmeantopics.index)\n",
    "df_reduced_topics.columns = ['x','y']\n",
    "df_reduced_topics['topic'] = df_reduced_topics.index\n",
    "df_reduced_topics.head()\n",
    "\n",
    "def get_cluster_concepts(topic_num:int, n:int=20):\n",
    "    \"\"\"\n",
    "    takes an integer topic_num corresponding to a \n",
    "    given topic number and\n",
    "    returns the list of top n occuring concepts\n",
    "    from the top_concept field\n",
    "    \"\"\"\n",
    "    top_concepts = dfpapers[dfpapers['cluster'] == topic_num]['top_concepts'].tolist()\n",
    "    flat_concepts = [item for sublist in top_concepts for item in sublist]\n",
    "    concepts_dict = {c:flat_concepts.count(c) for c in flat_concepts}\n",
    "    sorted_concepts = sorted(concepts_dict.items(), key=lambda x:x[1], reverse=True)\n",
    "    return [c[0] for c in sorted_concepts][:n]\n",
    "\n",
    "def get_yake_cluster_phrases(topic_num:int, n:int=20):\n",
    "    \"\"\"\n",
    "    takes in an integer n corresponding\n",
    "    to a given topic number and\n",
    "    returns the list of keyphrases (TopicRank method)\n",
    "    \"\"\"\n",
    "    documents = dfpapers[dfpapers['cluster'] == topic_num]['content'].tolist()\n",
    "    topic_input = \". \".join(documents)\n",
    "    #extractor = pke.unsupervised.TextRank()\n",
    "    kw_extractor = yake.KeywordExtractor(top=n, stopwords=None)\n",
    "    keywords = kw_extractor.extract_keywords(topic_input)\n",
    "    #extractor.load_document(input=topic_input,\n",
    "    #                    language='en',\n",
    "    #                    normalization=None)\n",
    "\n",
    "    #extractor.candidate_selection()\n",
    "\n",
    "    #window = 2\n",
    "    #use_stems = False\n",
    "    #extractor.candidate_weighting(window=window,\n",
    "    #                          use_stems=use_stems)\n",
    "    #extractor.candidate_weighting()\n",
    "    #threshold = 0.8\n",
    "   # keyphrases = extractor.get_n_best(n=20, threshold=threshold)\n",
    "    #keyphrases = extractor.get_n_best(n=n)\n",
    "    return [p[0] for p in keywords]\n",
    "\n",
    "wikiconcepts = df_reduced_topics['topic'].apply(get_cluster_concepts)\n",
    "\n",
    "wikikeywords = df_reduced_topics['topic'].apply(get_yake_cluster_phrases)\n",
    "\n",
    "dfpapers['id'] = dfpapers.index\n",
    "dfinfo = dfpapers[['x','y','id','title','doi','cluster','grants',\n",
    "                   'locations',\n",
    "                 'publication_date','keywords','top_concepts']].copy()\n",
    "\n",
    "centroids = dfinfo.groupby('cluster')[['x','y']].mean().copy()\n",
    "centroids['concepts'] = wikiconcepts\n",
    "centroids['cluster'] = centroids.index\n",
    "centroids['keywords'] = wikikeywords"
   ]
  },
  {
   "cell_type": "code",
   "execution_count": 98,
   "id": "ae8bf417-0e88-4908-89a7-cafe7259cddd",
   "metadata": {},
   "outputs": [],
   "source": [
    "def wrap_it(x):\n",
    "    return \"<br>\".join(textwrap.wrap(x, width=40))\n",
    "   # return \"<br>\".join(textwrap.wrap(x.replace(r'\\s+', ' '), width=40))"
   ]
  },
  {
   "cell_type": "code",
   "execution_count": 99,
   "id": "b9da99c3-934f-4a1e-ad3d-53cd1631d20a",
   "metadata": {},
   "outputs": [],
   "source": [
    "centroids['wrapped_keywords'] = centroids['keywords'].apply(str).apply(wrap_it)\n",
    "centroids['wrapped_concepts'] = centroids['concepts'].apply(str).apply(wrap_it)"
   ]
  },
  {
   "cell_type": "code",
   "execution_count": 100,
   "id": "7e9b9964-31c7-4bb2-aca8-6ba1d934ba97",
   "metadata": {},
   "outputs": [],
   "source": [
    "centroids.to_pickle('washburnecentroids2d.pkl')"
   ]
  },
  {
   "cell_type": "code",
   "execution_count": 101,
   "id": "5a088661-707d-44c0-aa26-2513553119d0",
   "metadata": {},
   "outputs": [],
   "source": [
    "dftriple.to_pickle('washburnedftriple2d.pkl')"
   ]
  },
  {
   "cell_type": "code",
   "execution_count": 102,
   "id": "8aeb2adc-816e-44dd-838c-9e3e953dbe53",
   "metadata": {},
   "outputs": [],
   "source": [
    "def get_affils_cluster_sort(dc:pd.DataFrame, cl:int):\n",
    "    \"\"\"\n",
    "    restricts the dataframe dc to cluster value cl\n",
    "    and returns the results grouped by id, ror sorted\n",
    "    by the some of probablity descending\n",
    "    \"\"\"\n",
    "    dg = dc[dc['paper_cluster'] == cl].copy()\n",
    "    print(cl)\n",
    "    dv = dg.groupby(['id','display_name','country_code',\n",
    "                     'type'])['paper_cluster_score'].sum().to_frame()\n",
    "    dv.sort_values('paper_cluster_score', ascending=False, inplace=True)\n",
    "    kw = centroids[centroids.cluster == cl]['keywords'].iloc[0]\n",
    "    return dv, kw"
   ]
  },
  {
   "cell_type": "code",
   "execution_count": 103,
   "id": "adfe4fac-4301-4818-83d2-395a4cb33b9c",
   "metadata": {},
   "outputs": [
    {
     "name": "stdout",
     "output_type": "stream",
     "text": [
      "1\n",
      "['spillover', 'pathogen spillover', 'pathogen', 'spillover risk', 'models', 'Percolation models', 'Percolation', 'risk', 'spillover events', 'events', 'covariates', 'predictions', 'predicting spillover', 'scales', 'Linear models', 'pathogens', 'Predicting pathogen spillover', 'human', 'zoonotic pathogen spillover', 'reservoir']\n"
     ]
    },
    {
     "data": {
      "text/html": [
       "<div>\n",
       "<style scoped>\n",
       "    .dataframe tbody tr th:only-of-type {\n",
       "        vertical-align: middle;\n",
       "    }\n",
       "\n",
       "    .dataframe tbody tr th {\n",
       "        vertical-align: top;\n",
       "    }\n",
       "\n",
       "    .dataframe thead th {\n",
       "        text-align: right;\n",
       "    }\n",
       "</style>\n",
       "<table border=\"1\" class=\"dataframe\">\n",
       "  <thead>\n",
       "    <tr style=\"text-align: right;\">\n",
       "      <th></th>\n",
       "      <th></th>\n",
       "      <th></th>\n",
       "      <th></th>\n",
       "      <th>paper_cluster_score</th>\n",
       "    </tr>\n",
       "    <tr>\n",
       "      <th>id</th>\n",
       "      <th>display_name</th>\n",
       "      <th>country_code</th>\n",
       "      <th>type</th>\n",
       "      <th></th>\n",
       "    </tr>\n",
       "  </thead>\n",
       "  <tbody>\n",
       "    <tr>\n",
       "      <th>https://openalex.org/I23732399</th>\n",
       "      <th>Montana State University</th>\n",
       "      <th>US</th>\n",
       "      <th>education</th>\n",
       "      <td>10.777643</td>\n",
       "    </tr>\n",
       "    <tr>\n",
       "      <th>https://openalex.org/I165733156</th>\n",
       "      <th>University of Georgia</th>\n",
       "      <th>US</th>\n",
       "      <th>education</th>\n",
       "      <td>1.755529</td>\n",
       "    </tr>\n",
       "    <tr>\n",
       "      <th>https://openalex.org/I4210119109</th>\n",
       "      <th>Indiana University Bloomington</th>\n",
       "      <th>US</th>\n",
       "      <th>education</th>\n",
       "      <td>1.755529</td>\n",
       "    </tr>\n",
       "    <tr>\n",
       "      <th>https://openalex.org/I97018004</th>\n",
       "      <th>Stanford University</th>\n",
       "      <th>US</th>\n",
       "      <th>education</th>\n",
       "      <td>1.755529</td>\n",
       "    </tr>\n",
       "    <tr>\n",
       "      <th>https://openalex.org/I121980950</th>\n",
       "      <th>Utah State University</th>\n",
       "      <th>US</th>\n",
       "      <th>education</th>\n",
       "      <td>1.0</td>\n",
       "    </tr>\n",
       "    <tr>\n",
       "      <th>https://openalex.org/I7882870</th>\n",
       "      <th>University of Glasgow</th>\n",
       "      <th>GB</th>\n",
       "      <th>education</th>\n",
       "      <td>1.0</td>\n",
       "    </tr>\n",
       "    <tr>\n",
       "      <th>https://openalex.org/I72951846</th>\n",
       "      <th>Washington State University</th>\n",
       "      <th>US</th>\n",
       "      <th>education</th>\n",
       "      <td>0.755529</td>\n",
       "    </tr>\n",
       "  </tbody>\n",
       "</table>\n",
       "</div>"
      ],
      "text/plain": [
       "                                                                                       paper_cluster_score\n",
       "id                               display_name                   country_code type                         \n",
       "https://openalex.org/I23732399   Montana State University       US           education           10.777643\n",
       "https://openalex.org/I165733156  University of Georgia          US           education            1.755529\n",
       "https://openalex.org/I4210119109 Indiana University Bloomington US           education            1.755529\n",
       "https://openalex.org/I97018004   Stanford University            US           education            1.755529\n",
       "https://openalex.org/I121980950  Utah State University          US           education                 1.0\n",
       "https://openalex.org/I7882870    University of Glasgow          GB           education                 1.0\n",
       "https://openalex.org/I72951846   Washington State University    US           education            0.755529"
      ]
     },
     "execution_count": 103,
     "metadata": {},
     "output_type": "execute_result"
    }
   ],
   "source": [
    "dv84, kw84 = get_affils_cluster_sort(dftriple, 1)\n",
    "print(kw84)\n",
    "dv84.head(10)"
   ]
  },
  {
   "cell_type": "code",
   "execution_count": 104,
   "id": "7d06eaf7-73d2-4e90-b936-83280fe9bc41",
   "metadata": {},
   "outputs": [
    {
     "name": "stdout",
     "output_type": "stream",
     "text": [
      "0\n",
      "['microbial communities', 'microbial', 'Microbial community', 'community ecological data', 'microbiome', 'data', 'community', 'relative abundance data', 'communities', 'phylogenetic', 'ecological data', 'soil microbial communities', 'microbial abundance patterns', 'relative abundance', 'microbial relative abundances', 'human microbiome', 'community ecological', 'abundance data', 'human microbiome data', 'ecological']\n"
     ]
    },
    {
     "data": {
      "text/html": [
       "<div>\n",
       "<style scoped>\n",
       "    .dataframe tbody tr th:only-of-type {\n",
       "        vertical-align: middle;\n",
       "    }\n",
       "\n",
       "    .dataframe tbody tr th {\n",
       "        vertical-align: top;\n",
       "    }\n",
       "\n",
       "    .dataframe thead th {\n",
       "        text-align: right;\n",
       "    }\n",
       "</style>\n",
       "<table border=\"1\" class=\"dataframe\">\n",
       "  <thead>\n",
       "    <tr style=\"text-align: right;\">\n",
       "      <th></th>\n",
       "      <th></th>\n",
       "      <th></th>\n",
       "      <th></th>\n",
       "      <th>paper_cluster_score</th>\n",
       "    </tr>\n",
       "    <tr>\n",
       "      <th>id</th>\n",
       "      <th>display_name</th>\n",
       "      <th>country_code</th>\n",
       "      <th>type</th>\n",
       "      <th></th>\n",
       "    </tr>\n",
       "  </thead>\n",
       "  <tbody>\n",
       "    <tr>\n",
       "      <th>https://openalex.org/I170897317</th>\n",
       "      <th>Duke University</th>\n",
       "      <th>US</th>\n",
       "      <th>education</th>\n",
       "      <td>43.0</td>\n",
       "    </tr>\n",
       "    <tr>\n",
       "      <th>https://openalex.org/I5124864</th>\n",
       "      <th>École Polytechnique Fédérale de Lausanne</th>\n",
       "      <th>CH</th>\n",
       "      <th>education</th>\n",
       "      <td>36.711654</td>\n",
       "    </tr>\n",
       "    <tr>\n",
       "      <th>https://openalex.org/I23732399</th>\n",
       "      <th>Montana State University</th>\n",
       "      <th>US</th>\n",
       "      <th>education</th>\n",
       "      <td>22.85685</td>\n",
       "    </tr>\n",
       "    <tr>\n",
       "      <th>https://openalex.org/I188538660</th>\n",
       "      <th>University of Colorado Boulder</th>\n",
       "      <th>US</th>\n",
       "      <th>education</th>\n",
       "      <td>16.707185</td>\n",
       "    </tr>\n",
       "    <tr>\n",
       "      <th>https://openalex.org/I36258959</th>\n",
       "      <th>University of California, San Diego</th>\n",
       "      <th>US</th>\n",
       "      <th>education</th>\n",
       "      <td>16.0</td>\n",
       "    </tr>\n",
       "    <tr>\n",
       "      <th>https://openalex.org/I161675122</th>\n",
       "      <th>Cooperative Institute for Research in Environmental Sciences</th>\n",
       "      <th>US</th>\n",
       "      <th>facility</th>\n",
       "      <td>11.0</td>\n",
       "    </tr>\n",
       "    <tr>\n",
       "      <th>https://openalex.org/I20089843</th>\n",
       "      <th>Princeton University</th>\n",
       "      <th>US</th>\n",
       "      <th>education</th>\n",
       "      <td>10.121556</td>\n",
       "    </tr>\n",
       "    <tr>\n",
       "      <th>https://openalex.org/I1343871089</th>\n",
       "      <th>Los Alamos National Laboratory</th>\n",
       "      <th>US</th>\n",
       "      <th>facility</th>\n",
       "      <td>9.0</td>\n",
       "    </tr>\n",
       "    <tr>\n",
       "      <th>https://openalex.org/I186903577</th>\n",
       "      <th>University of Luxembourg</th>\n",
       "      <th>LU</th>\n",
       "      <th>education</th>\n",
       "      <td>7.713701</td>\n",
       "    </tr>\n",
       "    <tr>\n",
       "      <th>https://openalex.org/I4210108719</th>\n",
       "      <th>EP Analytics (United States)</th>\n",
       "      <th>US</th>\n",
       "      <th>company</th>\n",
       "      <td>4.564036</td>\n",
       "    </tr>\n",
       "  </tbody>\n",
       "</table>\n",
       "</div>"
      ],
      "text/plain": [
       "                                                                                                           paper_cluster_score\n",
       "id                               display_name                                       country_code type                         \n",
       "https://openalex.org/I170897317  Duke University                                    US           education                43.0\n",
       "https://openalex.org/I5124864    École Polytechnique Fédérale de Lausanne           CH           education           36.711654\n",
       "https://openalex.org/I23732399   Montana State University                           US           education            22.85685\n",
       "https://openalex.org/I188538660  University of Colorado Boulder                     US           education           16.707185\n",
       "https://openalex.org/I36258959   University of California, San Diego                US           education                16.0\n",
       "https://openalex.org/I161675122  Cooperative Institute for Research in Environme... US           facility                 11.0\n",
       "https://openalex.org/I20089843   Princeton University                               US           education           10.121556\n",
       "https://openalex.org/I1343871089 Los Alamos National Laboratory                     US           facility                  9.0\n",
       "https://openalex.org/I186903577  University of Luxembourg                           LU           education            7.713701\n",
       "https://openalex.org/I4210108719 EP Analytics (United States)                       US           company              4.564036"
      ]
     },
     "execution_count": 104,
     "metadata": {},
     "output_type": "execute_result"
    }
   ],
   "source": [
    "dv84, kw84 = get_affils_cluster_sort(dftriple, 0)\n",
    "print(kw84)\n",
    "dv84.head(10)"
   ]
  },
  {
   "cell_type": "code",
   "execution_count": 105,
   "id": "b56131bc-35b6-4fe6-b591-d4bbc558246b",
   "metadata": {},
   "outputs": [],
   "source": [
    "dfinfo = dfpapers[['x','y','id','title','abstract', 'doi','cluster','probability',\n",
    "                 'publication_date','grants','locations',\n",
    "                   'keywords','top_concepts']].copy()"
   ]
  },
  {
   "cell_type": "code",
   "execution_count": 106,
   "id": "a7149d9b-d824-40e0-aca4-d71b8fc199f1",
   "metadata": {},
   "outputs": [],
   "source": [
    "pap_affils_dict = dftriple.groupby('paper_id')['paper_raw_affiliation_string'].\\\n",
    "apply(lambda x: ' | '.join(x.tolist()))\n",
    "\n",
    "#pap_authors_dict = dftriple.groupby('paper_id')['paper_author_display_name'].\\\n",
    "#apply(lambda x: ' | '.join(x.tolist()))"
   ]
  },
  {
   "cell_type": "code",
   "execution_count": 107,
   "id": "5e979412-c53a-4398-ba5e-a6434b340285",
   "metadata": {},
   "outputs": [],
   "source": [
    "pap_authors_dict = dftriple.groupby('paper_id')['paper_author_display_name'].apply(lambda x: x.values)"
   ]
  },
  {
   "cell_type": "code",
   "execution_count": 108,
   "id": "eb2becc5-8783-4371-9d40-9fe8d665cad9",
   "metadata": {},
   "outputs": [],
   "source": [
    "dfinfo['affil_list'] = pap_affils_dict\n",
    "dfinfo['author_list'] = pap_authors_dict"
   ]
  },
  {
   "cell_type": "code",
   "execution_count": 109,
   "id": "ff407903-d544-46b3-b466-f4d4134ff49b",
   "metadata": {},
   "outputs": [],
   "source": [
    "dfinfo['affil_list'] = dftriple.groupby('paper_id')['paper_raw_affiliation_string'].\\\n",
    "apply(lambda x: x.tolist())"
   ]
  },
  {
   "cell_type": "code",
   "execution_count": 110,
   "id": "a3a4cada-be5d-4956-82d8-58cd3dae80ee",
   "metadata": {},
   "outputs": [],
   "source": [
    "dfinfo['author_list'] =  dftriple.groupby('paper_id')['paper_author_display_name'].\\\n",
    "apply(lambda x: x.tolist())"
   ]
  },
  {
   "cell_type": "code",
   "execution_count": 111,
   "id": "ff02132d-bbf2-4a99-861f-6d25db68604a",
   "metadata": {},
   "outputs": [],
   "source": [
    "dfinfo['wrapped_affil_list'] = dfinfo['affil_list'].apply(str).apply(wrap_it)\n",
    "dfinfo['wrapped_author_list'] = dfinfo['author_list'].apply(str).apply(wrap_it)"
   ]
  },
  {
   "cell_type": "code",
   "execution_count": 112,
   "id": "57e3c983-929e-4c13-9ab3-e9bc279d5d20",
   "metadata": {},
   "outputs": [],
   "source": [
    "dfinfo['wrapped_keywords'] = dfinfo['keywords'].apply(str).apply(wrap_it)"
   ]
  },
  {
   "cell_type": "code",
   "execution_count": 113,
   "id": "525bb191-0056-48f7-910c-c4c20a2e3749",
   "metadata": {},
   "outputs": [],
   "source": [
    "def get_source_name(loc_list):\n",
    "    \"\"\"\n",
    "    grab the first item in the list;\n",
    "    retturn the display name\n",
    "    \"\"\"\n",
    "    try:\n",
    "        primary = loc_list[0]\n",
    "        return primary[\"source\"][\"display_name\"]\n",
    "    except:\n",
    "        return None\n",
    "\n",
    "def get_source_type(loc_list):\n",
    "    \"\"\"\n",
    "    grab the first item in the list;\n",
    "    return the source type\n",
    "    \"\"\"\n",
    "    try:\n",
    "        primary = loc_list[0]\n",
    "        return primary[\"source\"][\"type\"]\n",
    "    except:\n",
    "        return None"
   ]
  },
  {
   "cell_type": "code",
   "execution_count": 114,
   "id": "78750fec-f4af-4520-a090-43dfd4211cf1",
   "metadata": {},
   "outputs": [],
   "source": [
    "dfinfo[\"source\"] = dfinfo[\"locations\"].apply(get_source_name)\n",
    "dfinfo[\"source_type\"] = dfinfo[\"locations\"].apply(get_source_type)"
   ]
  },
  {
   "cell_type": "code",
   "execution_count": 115,
   "id": "0b70104c-b910-498b-9cdc-b19fd7b801e8",
   "metadata": {},
   "outputs": [],
   "source": [
    "dfinfo.to_pickle('washburnedfinfo2d.pkl')"
   ]
  },
  {
   "cell_type": "code",
   "execution_count": 116,
   "id": "7f76795e-4bf8-4bd4-92fd-4768ca5f46af",
   "metadata": {},
   "outputs": [],
   "source": [
    "def get_funder_names(funder_list):\n",
    "    \"\"\"\n",
    "    funder_list is a list of dictionaries\n",
    "    with three keys; return the list of \n",
    "    unique **funder_display_name**\n",
    "    values\n",
    "    \"\"\"\n",
    "    try:\n",
    "        funder_names = list(set([f['funder_display_name'] for f in funder_list]))\n",
    "        return funder_names    \n",
    "    except:\n",
    "        return []"
   ]
  },
  {
   "cell_type": "code",
   "execution_count": 117,
   "id": "0ddc3fad-0c2b-49d1-a9eb-b9beed1efffc",
   "metadata": {},
   "outputs": [],
   "source": [
    "dftriple[\"source\"] = dftriple[\"paper_locations\"].apply(get_source_name)\n",
    "dftriple[\"source_type\"] = dftriple[\"paper_locations\"].apply(get_source_type)\n",
    "dftriple[\"funder_list\"] = dftriple[\"paper_grants\"].apply(get_funder_names)"
   ]
  },
  {
   "cell_type": "code",
   "execution_count": 118,
   "id": "155fb367-b7c2-4634-910c-35572298fe7d",
   "metadata": {},
   "outputs": [],
   "source": [
    "dftriple.to_pickle('washburnedftriple2d.pkl')"
   ]
  },
  {
   "cell_type": "code",
   "execution_count": 119,
   "id": "ccc488f7-05ed-447d-a8b8-dec1aae34960",
   "metadata": {},
   "outputs": [],
   "source": [
    "dfinfo[\"funder_list\"] = dfinfo[\"grants\"].apply(get_funder_names)\n",
    "dfinfo[\"wrapped_funder_list\"] = dfinfo[\"funder_list\"].apply(str).apply(wrap_it)\n"
   ]
  },
  {
   "cell_type": "code",
   "execution_count": 120,
   "id": "265d0a3a-29df-42b1-8a21-7ad7b1221f08",
   "metadata": {},
   "outputs": [],
   "source": [
    "dfinfo.to_pickle('washburnedfinfo2d.pkl')"
   ]
  },
  {
   "cell_type": "code",
   "execution_count": 121,
   "id": "5f0f6382-f6d8-4bae-a7e5-d60c521214e5",
   "metadata": {},
   "outputs": [],
   "source": [
    "kw_dict = dfinfo['keywords'].to_dict()"
   ]
  },
  {
   "cell_type": "code",
   "execution_count": 122,
   "id": "ec15bd3e-5259-4d9f-a548-be72d67cc397",
   "metadata": {},
   "outputs": [
    {
     "data": {
      "text/plain": [
       "(list, 27)"
      ]
     },
     "execution_count": 122,
     "metadata": {},
     "output_type": "execute_result"
    }
   ],
   "source": [
    "sources_list = dftriple['source'].unique().tolist()\n",
    "type(sources_list), len(sources_list)\n"
   ]
  },
  {
   "cell_type": "code",
   "execution_count": 123,
   "id": "7eb8748b-60db-45db-85d1-bf89e10951af",
   "metadata": {},
   "outputs": [],
   "source": [
    "def get_source_json(s:str):\n",
    "    \"\"\"\n",
    "    s is an openalex Sources display_name\n",
    "    return that Sources object\n",
    "    \"\"\"\n",
    "    source_json = Sources().search_filter(display_name = s).get()\n",
    "    a = source_json[0]['type']\n",
    "    if \"homepage_url\" in source_json[0] and source_json[0]['homepage_url']:\n",
    "        print(f\"{s} has homepage_url and type {source_json[0]['type']}\")\n",
    "        return source_json[0][\"homepage_url\"]\n",
    "    else:\n",
    "        return None"
   ]
  },
  {
   "cell_type": "code",
   "execution_count": 125,
   "id": "300dd680-17d4-42f2-b379-9fa8c90551bb",
   "metadata": {},
   "outputs": [
    {
     "name": "stdout",
     "output_type": "stream",
     "text": [
      "Science Translational Medicine has homepage_url and type journal\n"
     ]
    },
    {
     "data": {
      "text/plain": [
       "'http://stm.sciencemag.org'"
      ]
     },
     "execution_count": 125,
     "metadata": {},
     "output_type": "execute_result"
    }
   ],
   "source": [
    "sj0 = get_source_json(sources_list[6])\n",
    "sj0"
   ]
  },
  {
   "cell_type": "code",
   "execution_count": 126,
   "id": "1621bb20-e29d-4f1e-a01b-08fe82f03886",
   "metadata": {},
   "outputs": [],
   "source": [
    "def get_display_page_dict(sl:list):\n",
    "    \"\"\"\n",
    "    sl is a list of Sources display_name values\n",
    "    returns the dictionary mapping\n",
    "    display_names with homepage_url values.\"\"\"\n",
    "    mapping_dict = dict()\n",
    "    for s in tqdm(sl):\n",
    "        try:\n",
    "            mapping_dict[s] = get_source_json(s)\n",
    "        except:\n",
    "            pass\n",
    "    return mapping_dict"
   ]
  },
  {
   "cell_type": "code",
   "execution_count": 127,
   "id": "d517ea0a-33cd-4f5c-ba39-6fd7b1f586be",
   "metadata": {},
   "outputs": [
    {
     "name": "stderr",
     "output_type": "stream",
     "text": [
      "  4%|██▋                                                                       | 1/27 [00:00<00:17,  1.49it/s]"
     ]
    },
    {
     "name": "stdout",
     "output_type": "stream",
     "text": [
      "Science has homepage_url and type journal\n"
     ]
    },
    {
     "name": "stderr",
     "output_type": "stream",
     "text": [
      "  7%|█████▍                                                                    | 2/27 [00:01<00:12,  1.99it/s]"
     ]
    },
    {
     "name": "stdout",
     "output_type": "stream",
     "text": [
      "MSystems has homepage_url and type journal\n"
     ]
    },
    {
     "name": "stderr",
     "output_type": "stream",
     "text": [
      " 11%|████████▏                                                                 | 3/27 [00:01<00:11,  2.06it/s]"
     ]
    },
    {
     "name": "stdout",
     "output_type": "stream",
     "text": [
      "Nature Communications has homepage_url and type journal\n"
     ]
    },
    {
     "name": "stderr",
     "output_type": "stream",
     "text": [
      " 15%|██████████▉                                                               | 4/27 [00:01<00:10,  2.22it/s]"
     ]
    },
    {
     "name": "stdout",
     "output_type": "stream",
     "text": [
      "eLife has homepage_url and type journal\n"
     ]
    },
    {
     "name": "stderr",
     "output_type": "stream",
     "text": [
      " 19%|█████████████▋                                                            | 5/27 [00:02<00:09,  2.25it/s]"
     ]
    },
    {
     "name": "stdout",
     "output_type": "stream",
     "text": [
      "medRxiv (Cold Spring Harbor Laboratory) has homepage_url and type repository\n"
     ]
    },
    {
     "name": "stderr",
     "output_type": "stream",
     "text": [
      " 22%|████████████████▍                                                         | 6/27 [00:02<00:09,  2.28it/s]"
     ]
    },
    {
     "name": "stdout",
     "output_type": "stream",
     "text": [
      "Frontiers in Microbiology has homepage_url and type journal\n"
     ]
    },
    {
     "name": "stderr",
     "output_type": "stream",
     "text": [
      " 26%|███████████████████▏                                                      | 7/27 [00:03<00:08,  2.36it/s]"
     ]
    },
    {
     "name": "stdout",
     "output_type": "stream",
     "text": [
      "Science Translational Medicine has homepage_url and type journal\n"
     ]
    },
    {
     "name": "stderr",
     "output_type": "stream",
     "text": [
      " 30%|█████████████████████▉                                                    | 8/27 [00:03<00:08,  2.36it/s]"
     ]
    },
    {
     "name": "stdout",
     "output_type": "stream",
     "text": [
      "PeerJ has homepage_url and type journal\n"
     ]
    },
    {
     "name": "stderr",
     "output_type": "stream",
     "text": [
      " 33%|████████████████████████▋                                                 | 9/27 [00:04<00:08,  2.23it/s]"
     ]
    },
    {
     "name": "stdout",
     "output_type": "stream",
     "text": [
      "PLOS Neglected Tropical Diseases has homepage_url and type journal\n"
     ]
    },
    {
     "name": "stderr",
     "output_type": "stream",
     "text": [
      " 37%|███████████████████████████                                              | 10/27 [00:04<00:07,  2.17it/s]"
     ]
    },
    {
     "name": "stdout",
     "output_type": "stream",
     "text": [
      "Microbiome has homepage_url and type journal\n"
     ]
    },
    {
     "name": "stderr",
     "output_type": "stream",
     "text": [
      " 41%|█████████████████████████████▋                                           | 11/27 [00:05<00:07,  2.06it/s]"
     ]
    },
    {
     "name": "stdout",
     "output_type": "stream",
     "text": [
      "Nature Microbiology has homepage_url and type journal\n"
     ]
    },
    {
     "name": "stderr",
     "output_type": "stream",
     "text": [
      " 44%|████████████████████████████████▍                                        | 12/27 [00:05<00:06,  2.17it/s]"
     ]
    },
    {
     "name": "stdout",
     "output_type": "stream",
     "text": [
      "Ecological Monographs has homepage_url and type journal\n"
     ]
    },
    {
     "name": "stderr",
     "output_type": "stream",
     "text": [
      " 48%|███████████████████████████████████▏                                     | 13/27 [00:06<00:06,  2.04it/s]"
     ]
    },
    {
     "name": "stdout",
     "output_type": "stream",
     "text": [
      "Ecology has homepage_url and type journal\n"
     ]
    },
    {
     "name": "stderr",
     "output_type": "stream",
     "text": [
      " 52%|█████████████████████████████████████▊                                   | 14/27 [00:06<00:06,  2.06it/s]"
     ]
    },
    {
     "name": "stdout",
     "output_type": "stream",
     "text": [
      "Proceedings of the National Academy of Sciences of the United States of America has homepage_url and type journal\n"
     ]
    },
    {
     "name": "stderr",
     "output_type": "stream",
     "text": [
      " 56%|████████████████████████████████████████▌                                | 15/27 [00:06<00:05,  2.14it/s]"
     ]
    },
    {
     "name": "stdout",
     "output_type": "stream",
     "text": [
      "Philosophical Transactions of the Royal Society B has homepage_url and type journal\n"
     ]
    },
    {
     "name": "stderr",
     "output_type": "stream",
     "text": [
      " 59%|███████████████████████████████████████████▎                             | 16/27 [00:07<00:05,  2.10it/s]"
     ]
    },
    {
     "name": "stdout",
     "output_type": "stream",
     "text": [
      "The ISME Journal has homepage_url and type journal\n"
     ]
    },
    {
     "name": "stderr",
     "output_type": "stream",
     "text": [
      " 63%|█████████████████████████████████████████████▉                           | 17/27 [00:07<00:04,  2.17it/s]"
     ]
    },
    {
     "name": "stdout",
     "output_type": "stream",
     "text": [
      "Biology Letters has homepage_url and type journal\n"
     ]
    },
    {
     "name": "stderr",
     "output_type": "stream",
     "text": [
      " 67%|████████████████████████████████████████████████▋                        | 18/27 [00:08<00:04,  2.22it/s]"
     ]
    },
    {
     "name": "stdout",
     "output_type": "stream",
     "text": [
      "Gut has homepage_url and type journal\n"
     ]
    },
    {
     "name": "stderr",
     "output_type": "stream",
     "text": [
      " 70%|███████████████████████████████████████████████████▎                     | 19/27 [00:08<00:03,  2.26it/s]"
     ]
    },
    {
     "name": "stdout",
     "output_type": "stream",
     "text": [
      "Molecular Ecology has homepage_url and type journal\n"
     ]
    },
    {
     "name": "stderr",
     "output_type": "stream",
     "text": [
      " 74%|██████████████████████████████████████████████████████                   | 20/27 [00:09<00:03,  2.14it/s]"
     ]
    },
    {
     "name": "stdout",
     "output_type": "stream",
     "text": [
      "Vaccines has homepage_url and type journal\n"
     ]
    },
    {
     "name": "stderr",
     "output_type": "stream",
     "text": [
      " 78%|████████████████████████████████████████████████████████▊                | 21/27 [00:09<00:02,  2.02it/s]"
     ]
    },
    {
     "name": "stdout",
     "output_type": "stream",
     "text": [
      "PLOS Computational Biology has homepage_url and type journal\n"
     ]
    },
    {
     "name": "stderr",
     "output_type": "stream",
     "text": [
      " 81%|███████████████████████████████████████████████████████████▍             | 22/27 [00:10<00:02,  2.10it/s]"
     ]
    },
    {
     "name": "stdout",
     "output_type": "stream",
     "text": [
      "The American Naturalist has homepage_url and type journal\n"
     ]
    },
    {
     "name": "stderr",
     "output_type": "stream",
     "text": [
      " 85%|██████████████████████████████████████████████████████████████▏          | 23/27 [00:10<00:01,  2.12it/s]"
     ]
    },
    {
     "name": "stdout",
     "output_type": "stream",
     "text": [
      "bioRxiv (Cold Spring Harbor Laboratory) has homepage_url and type repository\n"
     ]
    },
    {
     "name": "stderr",
     "output_type": "stream",
     "text": [
      " 89%|████████████████████████████████████████████████████████████████▉        | 24/27 [00:11<00:01,  2.15it/s]"
     ]
    },
    {
     "name": "stdout",
     "output_type": "stream",
     "text": [
      "Ecology and Evolution has homepage_url and type journal\n"
     ]
    },
    {
     "name": "stderr",
     "output_type": "stream",
     "text": [
      " 93%|███████████████████████████████████████████████████████████████████▌     | 25/27 [00:11<00:00,  2.20it/s]"
     ]
    },
    {
     "name": "stdout",
     "output_type": "stream",
     "text": [
      "Authorea (Authorea) has homepage_url and type repository\n"
     ]
    },
    {
     "name": "stderr",
     "output_type": "stream",
     "text": [
      " 96%|██████████████████████████████████████████████████████████████████████▎  | 26/27 [00:12<00:00,  2.25it/s]"
     ]
    },
    {
     "name": "stdout",
     "output_type": "stream",
     "text": [
      "Social Science Research Network has homepage_url and type repository\n"
     ]
    },
    {
     "name": "stderr",
     "output_type": "stream",
     "text": [
      "100%|█████████████████████████████████████████████████████████████████████████| 27/27 [00:12<00:00,  2.17it/s]\n"
     ]
    }
   ],
   "source": [
    "source_page_dict = get_display_page_dict(sources_list)"
   ]
  },
  {
   "cell_type": "code",
   "execution_count": 128,
   "id": "845c8706-2a80-4724-aedc-df714f0297e5",
   "metadata": {},
   "outputs": [],
   "source": [
    "import pickle\n",
    "\n",
    "with open(\"source_page_dict.pkl\", \"wb\") as f:\n",
    "    pickle.dump(source_page_dict, f)\n"
   ]
  },
  {
   "cell_type": "code",
   "execution_count": 129,
   "id": "33af8a8f-651e-4da5-bac4-9cd9970ed2ea",
   "metadata": {},
   "outputs": [],
   "source": [
    "with open(\"source_page_dict.pkl\", \"rb\") as f:\n",
    "    source_dict = pickle.load(f)"
   ]
  },
  {
   "cell_type": "code",
   "execution_count": 130,
   "id": "5e97338f-46e6-49e6-8716-b96cf1eecf2a",
   "metadata": {},
   "outputs": [],
   "source": [
    "def get_journals_cluster_sort(dc:pd.DataFrame, cl:int):\n",
    "    \"\"\"\n",
    "    restricts the dataframe dc to cluster value cl\n",
    "    and returns the results grouped by source (where\n",
    "    source_type == 'journal') sorted\n",
    "    by the some of probablity descending\n",
    "    \"\"\"\n",
    "    dg = dc[dc['paper_cluster'] == cl].copy()\n",
    "    print(cl)\n",
    "    dv = dg[dg['source_type'] == 'journal'].groupby(['source'])['paper_cluster_score'].sum().to_frame()\n",
    "    dv.sort_values('paper_cluster_score', ascending=False, inplace=True)\n",
    "    dv['journal'] = dv.index\n",
    "    dv['hompage_url'] = dv['journal'].map(source_dict)\n",
    "    kw = centroids[centroids.cluster == cl]['keywords'].iloc[0]\n",
    "    return dv, kw"
   ]
  },
  {
   "cell_type": "code",
   "execution_count": 131,
   "id": "ccd1dddb-f6b1-4376-ba23-0de871d484cf",
   "metadata": {},
   "outputs": [
    {
     "name": "stdout",
     "output_type": "stream",
     "text": [
      "2\n"
     ]
    },
    {
     "data": {
      "text/html": [
       "<div>\n",
       "<style scoped>\n",
       "    .dataframe tbody tr th:only-of-type {\n",
       "        vertical-align: middle;\n",
       "    }\n",
       "\n",
       "    .dataframe tbody tr th {\n",
       "        vertical-align: top;\n",
       "    }\n",
       "\n",
       "    .dataframe thead th {\n",
       "        text-align: right;\n",
       "    }\n",
       "</style>\n",
       "<table border=\"1\" class=\"dataframe\">\n",
       "  <thead>\n",
       "    <tr style=\"text-align: right;\">\n",
       "      <th></th>\n",
       "      <th>paper_cluster_score</th>\n",
       "      <th>journal</th>\n",
       "      <th>hompage_url</th>\n",
       "    </tr>\n",
       "    <tr>\n",
       "      <th>source</th>\n",
       "      <th></th>\n",
       "      <th></th>\n",
       "      <th></th>\n",
       "    </tr>\n",
       "  </thead>\n",
       "  <tbody>\n",
       "    <tr>\n",
       "      <th>Molecular Ecology</th>\n",
       "      <td>17.0</td>\n",
       "      <td>Molecular Ecology</td>\n",
       "      <td>http://www.wiley.com/bw/journal.asp?ref=0962-1083</td>\n",
       "    </tr>\n",
       "    <tr>\n",
       "      <th>PLOS Neglected Tropical Diseases</th>\n",
       "      <td>7.657034</td>\n",
       "      <td>PLOS Neglected Tropical Diseases</td>\n",
       "      <td>http://www.plosntds.org/</td>\n",
       "    </tr>\n",
       "    <tr>\n",
       "      <th>Biology Letters</th>\n",
       "      <td>4.280942</td>\n",
       "      <td>Biology Letters</td>\n",
       "      <td>http://rsbl.royalsocietypublishing.org/</td>\n",
       "    </tr>\n",
       "    <tr>\n",
       "      <th>Vaccines</th>\n",
       "      <td>4.0</td>\n",
       "      <td>Vaccines</td>\n",
       "      <td>http://www.mdpi.com/journal/vaccines</td>\n",
       "    </tr>\n",
       "    <tr>\n",
       "      <th>PeerJ</th>\n",
       "      <td>3.978182</td>\n",
       "      <td>PeerJ</td>\n",
       "      <td>http://www.peerj.com/</td>\n",
       "    </tr>\n",
       "  </tbody>\n",
       "</table>\n",
       "</div>"
      ],
      "text/plain": [
       "                                 paper_cluster_score   \n",
       "source                                                 \n",
       "Molecular Ecology                               17.0  \\\n",
       "PLOS Neglected Tropical Diseases            7.657034   \n",
       "Biology Letters                             4.280942   \n",
       "Vaccines                                         4.0   \n",
       "PeerJ                                       3.978182   \n",
       "\n",
       "                                                           journal   \n",
       "source                                                               \n",
       "Molecular Ecology                                Molecular Ecology  \\\n",
       "PLOS Neglected Tropical Diseases  PLOS Neglected Tropical Diseases   \n",
       "Biology Letters                                    Biology Letters   \n",
       "Vaccines                                                  Vaccines   \n",
       "PeerJ                                                        PeerJ   \n",
       "\n",
       "                                                                        hompage_url  \n",
       "source                                                                               \n",
       "Molecular Ecology                 http://www.wiley.com/bw/journal.asp?ref=0962-1083  \n",
       "PLOS Neglected Tropical Diseases                           http://www.plosntds.org/  \n",
       "Biology Letters                             http://rsbl.royalsocietypublishing.org/  \n",
       "Vaccines                                       http://www.mdpi.com/journal/vaccines  \n",
       "PeerJ                                                         http://www.peerj.com/  "
      ]
     },
     "execution_count": 131,
     "metadata": {},
     "output_type": "execute_result"
    }
   ],
   "source": [
    "dv, kw = get_journals_cluster_sort(dftriple, 2)\n",
    "dv.head()"
   ]
  },
  {
   "cell_type": "code",
   "execution_count": 132,
   "id": "973197e1-6e22-4fec-9712-3ee93ed78458",
   "metadata": {},
   "outputs": [
    {
     "name": "stderr",
     "output_type": "stream",
     "text": [
      "100%|█████████████████████████████████████████████████████████████████████████| 96/96 [00:43<00:00,  2.22it/s]\n"
     ]
    }
   ],
   "source": [
    "affils_list = dftriple['display_name'].unique().tolist()\n",
    "type(affils_list), len(affils_list)\n",
    "\n",
    "affil_json = Institutions().filter(display_name = affils_list[1]).get()\n",
    "\n",
    "def get_affil_json(s:str):\n",
    "    \"\"\"\n",
    "    s is an openalex Sources display_name\n",
    "    return that Sources object\n",
    "    \"\"\"\n",
    "    affil_json = Institutions().search_filter(display_name = s).get()\n",
    "    #a = source_json[0]['type']\n",
    "    if \"geo\" in affil_json[0]:\n",
    "       # print(f\"{s} has homepage_url and type {source_json[0]['type']}\")\n",
    "        return affil_json[0][\"geo\"][\"latitude\"], affil_json[0][\"geo\"][\"longitude\"]\n",
    "    else:\n",
    "        return None, None\n",
    "    \n",
    "def get_display_geo_dict(sl:list):\n",
    "    \"\"\"\n",
    "    sl is a list of Institution display_name values\n",
    "    returns the dictionary mapping\n",
    "    display_names with (latitude, longitude) values.\"\"\"\n",
    "    mapping_dict = dict()\n",
    "    for s in tqdm(sl):\n",
    "        try:\n",
    "            mapping_dict[s] = get_affil_json(s)\n",
    "        except:\n",
    "            pass\n",
    "    return mapping_dict\n",
    "\n",
    "affil_geo_dict = get_display_geo_dict(affils_list)\n",
    "\n",
    "\n",
    "import pickle\n",
    "\n",
    "with open(\"affil_geo_dict.pkl\", \"wb\") as f:\n",
    "    pickle.dump(affil_geo_dict, f)"
   ]
  },
  {
   "cell_type": "code",
   "execution_count": null,
   "id": "61e024f5-9309-488c-b733-691c9f4439c0",
   "metadata": {},
   "outputs": [],
   "source": []
  }
 ],
 "metadata": {
  "kernelspec": {
   "display_name": "Python 3 (ipykernel)",
   "language": "python",
   "name": "python3"
  },
  "language_info": {
   "codemirror_mode": {
    "name": "ipython",
    "version": 3
   },
   "file_extension": ".py",
   "mimetype": "text/x-python",
   "name": "python",
   "nbconvert_exporter": "python",
   "pygments_lexer": "ipython3",
   "version": "3.10.12"
  }
 },
 "nbformat": 4,
 "nbformat_minor": 5
}
